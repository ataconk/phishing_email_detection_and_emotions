{
 "cells": [
  {
   "cell_type": "code",
   "execution_count": null,
   "id": "b4f9f719",
   "metadata": {},
   "outputs": [],
   "source": [
    "import email\n",
    "from email.policy import default\n",
    "\n",
    "# class for reading a mails file with a specific format (mbox) and allows for iteration over the messages in the file.\n",
    "class MboxReader:\n",
    "    # It opens the file in binary mode and reads the first line, which should start with \"From \".   \n",
    "    def __init__(self, filename):\n",
    "        self.handle = open(filename, 'rb')\n",
    "        assert self.handle.readline().startswith(b'From ')\n",
    "\n",
    "    # enter and exit methods are for context management and allow the use of the \"with\" statement. \n",
    "    def __enter__(self):\n",
    "        return self\n",
    "\n",
    "    def __exit__(self, exc_type, exc_value, exc_traceback):\n",
    "        self.handle.close()\n",
    "\n",
    "    def __iter__(self):\n",
    "        return iter(self.__next__())\n",
    "\n",
    "    def __next__(self):\n",
    "        lines = []\n",
    "        while True:\n",
    "            line = self.handle.readline()\n",
    "            if line == b'' or line.startswith(b'From '):\n",
    "                yield email.message_from_bytes(b''.join(lines), policy=default)\n",
    "                if line == b'':\n",
    "                    break\n",
    "                lines = []\n",
    "                continue\n",
    "            lines.append(line)\n"
   ]
  },
  {
   "cell_type": "code",
   "execution_count": 3,
   "id": "c5f94367",
   "metadata": {},
   "outputs": [],
   "source": [
    "import re\n",
    "\n",
    "# function to remove html tags\n",
    "TAG_RE = re.compile(r'<[^>]+>')\n",
    "\n",
    "def remove_tags(text):\n",
    "    return TAG_RE.sub('', text)"
   ]
  },
  {
   "cell_type": "code",
   "execution_count": 4,
   "id": "335175dd",
   "metadata": {},
   "outputs": [],
   "source": [
    "# function to remove unicode or backslashes from the text\n",
    "def not_unicode_or_backslash(x):\n",
    "    try:\n",
    "        x = x.encode('unicode-escape').decode()\n",
    "    finally:\n",
    "        return not x.startswith(\"\\\\\")"
   ]
  },
  {
   "cell_type": "code",
   "execution_count": 5,
   "id": "7373ffeb",
   "metadata": {},
   "outputs": [],
   "source": [
    "import base64\n",
    "# base64 decoder\n",
    "def decodeb64(strin):\n",
    "    try:\n",
    "        fin = base64.b64decode(strin)\n",
    "        return fin\n",
    "    except:\n",
    "        return strin"
   ]
  },
  {
   "cell_type": "code",
   "execution_count": 6,
   "id": "17ccc77a",
   "metadata": {},
   "outputs": [],
   "source": [
    "\n",
    "# Cleaning the body content by hardcoding\n",
    "def clean_body(body):\n",
    "    body = body.replace('{', ' {')\n",
    "    body = re.sub(r\"{.*}\", \"{{}}\", body)\n",
    "    body = re.sub(\"[\\(\\[].*?[\\)\\]]\", \"\", body)\n",
    "    body = body.replace('\\n', ' ')\n",
    "    body = body.replace('jose@monkey.org', '')\n",
    "    body = body.replace('jose', ' ')\n",
    "    body = body.replace('monkey.org', ' ')\n",
    "    body = body.replace('&nbsp;', ' ')\n",
    "    body = body.replace('&amp;', ' ')\n",
    "    body = body.replace('=0D', ' ')\n",
    "    body = body.replace('=A0', ' ')\n",
    "    body = body.replace('=20', ' ')\n",
    "    body = body.replace('=E9', ' ')\n",
    "    body = body.replace('&copy;', ' ')\n",
    "    body = body.replace('udca0', ' ')\n",
    "    body = body.replace('udce2', ' ')\n",
    "    body = body.replace('= ', '')\n",
    "    body = body.replace('sp;', '')\n",
    "    body = body.replace('&nb', ' ')\n",
    "    body = body.replace(\"=E2=80=99\",\"'\")\n",
    "    body = body.replace(\"&#8217;\",\"'\")\n",
    "    body = body.replace(\"&#957;\",\"v\")\n",
    "    &#957;\n",
    "\n",
    "    \n",
    "    body = ' '.join(word for word in body.split(' ') if not word.startswith('&'))\n",
    "    body = ' '.join(word for word in body.split(' ') if not word.startswith('#'))\n",
    "    body = ' '.join(word for word in body.split(' ') if not word.startswith('.'))\n",
    "    body = ' '.join(word for word in body.split(' ') if not word.startswith('='))\n",
    "    body = ' '.join(word for word in body.split(' ') if not word.startswith('|'))\n",
    "    \n",
    "    body = re.sub(r'http\\S+', '', body)\n",
    "    # body = body.replace('\\\\', '')\n",
    "    body = body.strip()\n",
    "    body = \" \".join(body.split())\n",
    "    body = re.sub(r\"{.*}\", \"{{}}\", body)\n",
    "    \n",
    "    body = body.replace(\"{\", \"\")\n",
    "    body = body.replace('}', '')\n",
    "\n",
    "    \n",
    "    body = ' '.join(word for word in body.split(' ') if not_unicode_or_backslash(word))\n",
    "    try: \n",
    "        body = body.split('--')[0]\n",
    "    except:\n",
    "        pass\n",
    "\n",
    "    try: \n",
    "        body = body.split('**')[0]\n",
    "    except:\n",
    "        pass\n",
    "    return body"
   ]
  },
  {
   "cell_type": "code",
   "execution_count": 7,
   "id": "88a474b1",
   "metadata": {},
   "outputs": [],
   "source": [
    "pre_bodies = []\n",
    "\n",
    "# reading the mbox file\n",
    "with MboxReader('/Users/atacank/Documents/Nazario phishing corpus/private-phishing4.mbox') as mbox:\n",
    "        counter = 0\n",
    "        for message in mbox:\n",
    "            try:\n",
    "                pre_bodies.append(message._payload[0]._payload)\n",
    "            except:\n",
    "                try:\n",
    "                    pre_bodies.append(message._payload)\n",
    "                \n",
    "                except:\n",
    "                    pass\n",
    "            "
   ]
  },
  {
   "cell_type": "code",
   "execution_count": null,
   "id": "64fa39f5",
   "metadata": {},
   "outputs": [],
   "source": []
  },
  {
   "cell_type": "code",
   "execution_count": 8,
   "id": "fce50cfa",
   "metadata": {},
   "outputs": [],
   "source": [
    "# function for getting body content of the emails\n",
    "def get_bodies(dir_of_mbox):\n",
    "    bodies = []\n",
    "    with MboxReader(dir_of_mbox) as mbox:\n",
    "        counter = 0\n",
    "        for message in mbox:\n",
    "\n",
    "            counter = counter + 1\n",
    "            \n",
    "            message = decodeb64(message)\n",
    "\n",
    "            try:\n",
    "                body = remove_tags(' '.join(word for word in message._payload[0]._payload.split(' ') if not word.startswith('0x')))\n",
    "                # print(body)\n",
    "                body = clean_body(body)\n",
    "                # print(body)\n",
    "                if len(body)<100:\n",
    "                    pass\n",
    "                else:\n",
    "                    bodies.append(body)\n",
    "            except:\n",
    "                try: \n",
    "                    body = remove_tags(' '.join(word for word in message._payload.split(' ') if not word.startswith('0x')))\n",
    "                    body = clean_body(body)\n",
    "                    if len(body)<100:\n",
    "                        pass\n",
    "                    else:\n",
    "                        bodies.append(body)\n",
    "                except Exception as e:\n",
    "                    # print(e, counter)\n",
    "                    pass\n",
    "    return bodies\n",
    "\n"
   ]
  },
  {
   "cell_type": "code",
   "execution_count": 9,
   "id": "2f1a8746",
   "metadata": {},
   "outputs": [],
   "source": [
    "# loading all body contents from mbox files\n",
    "bodies_pre2015 = get_bodies('/Users/atacank/Documents/Nazario phishing corpus/private-phishing4.mbox')\n",
    "bodies2016 = get_bodies('/Users/atacank/Documents/Nazario phishing corpus/phishing-2016.mbox')\n",
    "bodies2017 = get_bodies('/Users/atacank/Documents/Nazario phishing corpus/phishing-2017.mbox')\n",
    "bodies2018 = get_bodies('/Users/atacank/Documents/Nazario phishing corpus/phishing-2018.mbox')\n",
    "bodies2019 = get_bodies('/Users/atacank/Documents/Nazario phishing corpus/phishing-2019.mbox')\n",
    "bodies2020 = get_bodies('/Users/atacank/Documents/Nazario phishing corpus/phishing-2020.mbox')\n",
    "bodies2021 = get_bodies('/Users/atacank/Documents/Nazario phishing corpus/phishing-2021.mbox')"
   ]
  },
  {
   "cell_type": "code",
   "execution_count": 10,
   "id": "da5173f0",
   "metadata": {
    "scrolled": true
   },
   "outputs": [],
   "source": [
    "# concatenating the list\n",
    "bodies_all = bodies_pre2015 + bodies2016 + bodies2017 + bodies2018 + bodies2019 + bodies2020 + bodies2021"
   ]
  },
  {
   "cell_type": "code",
   "execution_count": 12,
   "id": "d8398488",
   "metadata": {},
   "outputs": [],
   "source": [
    "# removing duplicates\n",
    "bodies_all = list(set(bodies_all))"
   ]
  },
  {
   "cell_type": "code",
   "execution_count": 13,
   "id": "9af3cc28",
   "metadata": {},
   "outputs": [],
   "source": [
    "import pandas as pd\n",
    "from langdetect import detect"
   ]
  },
  {
   "cell_type": "code",
   "execution_count": 14,
   "id": "2cd957a5",
   "metadata": {},
   "outputs": [],
   "source": [
    "# seperating the english and other languages \n",
    "bodies_all_eng = []\n",
    "bodies_all_other_lang = []\n",
    "for message in bodies_all:\n",
    "    if detect(message) == 'en':\n",
    "        bodies_all_eng.append(message)\n",
    "    else:\n",
    "        bodies_all_other_lang.append(message)"
   ]
  },
  {
   "cell_type": "code",
   "execution_count": 16,
   "id": "548075ba",
   "metadata": {},
   "outputs": [
    {
     "data": {
      "text/plain": [
       "394"
      ]
     },
     "execution_count": 16,
     "metadata": {},
     "output_type": "execute_result"
    }
   ],
   "source": [
    "len(bodies_all_other_lang)"
   ]
  },
  {
   "cell_type": "code",
   "execution_count": 17,
   "id": "508fa771",
   "metadata": {},
   "outputs": [],
   "source": [
    "import pandas as pd\n",
    "\n",
    "df = pd.DataFrame(bodies_all, columns=[\"email_body\"])\n"
   ]
  },
  {
   "cell_type": "code",
   "execution_count": 18,
   "id": "aea87d87",
   "metadata": {},
   "outputs": [
    {
     "name": "stderr",
     "output_type": "stream",
     "text": [
      "[nltk_data] Error loading stopwords: <urlopen error [SSL:\n",
      "[nltk_data]     CERTIFICATE_VERIFY_FAILED] certificate verify failed:\n",
      "[nltk_data]     unable to get local issuer certificate (_ssl.c:1125)>\n",
      "[nltk_data] Error loading punkt: <urlopen error [SSL:\n",
      "[nltk_data]     CERTIFICATE_VERIFY_FAILED] certificate verify failed:\n",
      "[nltk_data]     unable to get local issuer certificate (_ssl.c:1125)>\n",
      "[nltk_data] Error loading wordnet: <urlopen error [SSL:\n",
      "[nltk_data]     CERTIFICATE_VERIFY_FAILED] certificate verify failed:\n",
      "[nltk_data]     unable to get local issuer certificate (_ssl.c:1125)>\n"
     ]
    }
   ],
   "source": [
    "import text2emotion as te"
   ]
  },
  {
   "cell_type": "code",
   "execution_count": null,
   "id": "6bb1fe07",
   "metadata": {},
   "outputs": [],
   "source": [
    "def freq(lst):\n",
    "    d = {}\n",
    "    for i in lst:\n",
    "        if d.get(i):\n",
    "            d[i] += 1\n",
    "        else:\n",
    "            d[i] = 1\n",
    "    return d"
   ]
  },
  {
   "cell_type": "code",
   "execution_count": 19,
   "id": "f606671c",
   "metadata": {},
   "outputs": [],
   "source": [
    "phishing_emails = pd.DataFrame(columns=['message','is_phishing'])"
   ]
  },
  {
   "cell_type": "code",
   "execution_count": 20,
   "id": "32d778d2",
   "metadata": {},
   "outputs": [],
   "source": [
    "phishing_emails['message'] = bodies_all_eng\n",
    "phishing_emails['is_phishing'] = 1"
   ]
  },
  {
   "cell_type": "code",
   "execution_count": 21,
   "id": "1e1b6f8d",
   "metadata": {},
   "outputs": [],
   "source": [
    "phishing_emails['message'] = phishing_emails['message'].map(lambda x: x.encode('unicode-escape').decode('utf-8'))"
   ]
  },
  {
   "cell_type": "code",
   "execution_count": 145,
   "id": "388a56ff",
   "metadata": {},
   "outputs": [],
   "source": [
    "phishing_emails.to_csv('/Users/atacank/Documents/Repositories/Thesis-Phishing/phishing_emails.csv', index=False, encoding='utf-8')"
   ]
  },
  {
   "cell_type": "code",
   "execution_count": 44,
   "id": "72a9749b",
   "metadata": {},
   "outputs": [
    {
     "data": {
      "text/plain": [
       "\"wellsfargo.com Your contact information has been updated We have updated your Wells Fargo contact information: Phone Number Email Address You have received this email because you or someone had used your account from different computer. update your contact information. If you did not make this request online, by phone, or at a Wells Fargo branch, please call us immediately at 1-800-869-3557 or 1-800-225-5935 We are available 24 hours a day, 7 days a week. Please do not reply to this email. Note: If you use Bill Pay, you will need to update your contact information for that service separately. You'll find a link on the right side of the Update Your Contact Information screen. wellsfargo.com\""
      ]
     },
     "execution_count": 44,
     "metadata": {},
     "output_type": "execute_result"
    }
   ],
   "source": [
    "phishing_emails['message'][1650]"
   ]
  }
 ],
 "metadata": {
  "kernelspec": {
   "display_name": "Python 3 (ipykernel)",
   "language": "python",
   "name": "python3"
  },
  "language_info": {
   "codemirror_mode": {
    "name": "ipython",
    "version": 3
   },
   "file_extension": ".py",
   "mimetype": "text/x-python",
   "name": "python",
   "nbconvert_exporter": "python",
   "pygments_lexer": "ipython3",
   "version": "3.8.8"
  }
 },
 "nbformat": 4,
 "nbformat_minor": 5
}
