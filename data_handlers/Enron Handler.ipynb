{
 "cells": [
  {
   "cell_type": "code",
   "execution_count": 1,
   "id": "61558bd5",
   "metadata": {},
   "outputs": [],
   "source": [
    "# importing libraries\n",
    "import numpy as np\n",
    "import pandas as pd\n",
    "\n",
    "import os, gc, re"
   ]
  },
  {
   "cell_type": "code",
   "execution_count": 2,
   "id": "d2d978bd",
   "metadata": {},
   "outputs": [],
   "source": [
    "# setting mails dataset directory, change it accordingly\n",
    "mails_fold = '/Users/atacank/Downloads/maildir'"
   ]
  },
  {
   "cell_type": "code",
   "execution_count": 3,
   "id": "b2de9b99",
   "metadata": {},
   "outputs": [],
   "source": [
    "# reading all subdirectories in mails folder\n",
    "# importing emails in a list\n",
    "\n",
    "all_mails_dir_raw = []\n",
    "all_mails_content = []\n",
    "saka = []\n",
    "for root, subdirectories, files in os.walk(mails_fold):\n",
    "    # for subdirectory in subdirectories:\n",
    "    #    print(os.path.join(root, subdirectory))\n",
    "    for file in files:\n",
    "        # print(os.path.join(root, file))\n",
    "        try:\n",
    "            with open(os.path.join(root, file), 'r') as f2:\n",
    "                data = f2.read()\n",
    "                all_mails_content.append(data)\n",
    "            all_mails_dir_raw.append(os.path.join(root, file))\n",
    "            saka.append([os.path.join(root, file), data])\n",
    "            \n",
    "        except:\n",
    "            pass"
   ]
  },
  {
   "cell_type": "code",
   "execution_count": 4,
   "id": "9d0c1d03",
   "metadata": {},
   "outputs": [],
   "source": [
    "import random\n",
    "# randomly cropping the emails because the data is huge and we only need 3-4k\n",
    "cropped_mails_dir = random.sample(all_mails_dir_raw, 3974)\n",
    "cropped_mails_content = random.sample(all_mails_content, 3974)\n",
    "cropped_data = random.sample(saka, 3974)"
   ]
  },
  {
   "cell_type": "code",
   "execution_count": null,
   "id": "25ea6a90",
   "metadata": {},
   "outputs": [],
   "source": []
  },
  {
   "cell_type": "code",
   "execution_count": null,
   "id": "2556d364",
   "metadata": {},
   "outputs": [],
   "source": []
  },
  {
   "cell_type": "code",
   "execution_count": 5,
   "id": "a26649b5",
   "metadata": {},
   "outputs": [],
   "source": [
    "enron_df = pd.DataFrame(cropped_data, columns = ['file', 'message'])\n",
    "df = enron_df"
   ]
  },
  {
   "cell_type": "code",
   "execution_count": 7,
   "id": "25736d79",
   "metadata": {},
   "outputs": [],
   "source": [
    "def info_part(i):\n",
    "    \"\"\"split infomation part out\"\"\"\n",
    "    return i.split('\\n\\n', 1)[0]\n",
    "def content_part(i):\n",
    "    \"\"\"split content part out\"\"\"\n",
    "    return i.split('\\n\\n', 1)[1]\n",
    "\n",
    "df['pre_info'] = df.message.map(info_part)\n",
    "df['content'] = df.message.map(content_part)\n",
    "df['test_true'] = True\n",
    "\n",
    "words2split = ['Message-ID: ', 'Date: ', 'From: ', 'To: ', 'Subject: ', 'Cc: ', 'Mime-Version: ', 'Content-Type: ',\n",
    "               'Content-Transfer-Encoding: ', 'Bcc: ', 'X-From: ', 'X-To: ', 'X-cc: ', 'X-bcc: ', 'X-Folder: ', 'X-Origin: ',\n",
    "               'X-FileName: ']\n",
    "features_naming = [i[:-2] for i in words2split]\n",
    "split_condition = '|'.join(words2split)"
   ]
  },
  {
   "cell_type": "code",
   "execution_count": 8,
   "id": "99ef6c36",
   "metadata": {},
   "outputs": [],
   "source": [
    "# Some emails' subject confuse the string-spliting function, so I make a little change\n",
    "def duplicated_info(i):\n",
    "    return i.replace(' Date: ', ' Date- ').replace(' Subject: ', ' Subject2: ').replace(' To: ',\n",
    "                    ' To- ').replace(' (Subject: ', ' (Subject- ')\n",
    "df['pre_info'] = df['pre_info'].map(duplicated_info)\n",
    "\n",
    "# checking many categories are there in these emails\n",
    "def num_part(i):\n",
    "    return len(re.split(split_condition, i))\n",
    "df['num_info'] = df['pre_info'].map(num_part)\n",
    "\n",
    "# around 20k emails do not have the 'To: ' category, so I add one\n",
    "def add_to(i):\n",
    "    return i.replace('\\nSubject: ', '\\nTo: \\nSubject: ')\n",
    "temp_condition = (df['num_info'] == 17) | (df['num_info'] == 15)\n",
    "df.loc[temp_condition, 'pre_info'] = df.loc[temp_condition, 'pre_info'].map(add_to)\n",
    "\n",
    "\n",
    "# similar way to deal with the \"Cc:\" and \"Bcc:\" categories\n",
    "temp_condition = (df['num_info'] == 16) | (df['num_info'] == 15)\n",
    "def add_bcc(i):\n",
    "    return i.replace('\\nX-From: ', '\\nBcc: \\nX-From: ')\n",
    "df.loc[temp_condition, 'pre_info'] = df.loc[temp_condition, 'pre_info'].map(add_bcc)\n",
    "def add_cc(i):\n",
    "    return i.replace('\\nMime-Version: ', '\\nCc: \\nMime-Version: ')\n",
    "df.loc[temp_condition, 'pre_info'] = df.loc[temp_condition, 'pre_info'].map(add_cc)"
   ]
  },
  {
   "cell_type": "code",
   "execution_count": 9,
   "id": "22337db0",
   "metadata": {},
   "outputs": [],
   "source": [
    "# functions for cleaning tabs and whitespaces\n",
    "def clearnsh(i):\n",
    "    return i.replace('\\n', ' ')\n",
    "\n",
    "def cleartsh(i):\n",
    "    return i.replace('\\t', ' ')\n",
    "df['content'] = df['content'].map(clearnsh)"
   ]
  },
  {
   "cell_type": "code",
   "execution_count": 10,
   "id": "b1af40e7",
   "metadata": {},
   "outputs": [
    {
     "data": {
      "text/plain": [
       "18    3974\n",
       "Name: num_info, dtype: int64"
      ]
     },
     "execution_count": 10,
     "metadata": {},
     "output_type": "execute_result"
    }
   ],
   "source": [
    "df['num_info'] = df['pre_info'].map(num_part)\n",
    "df['num_info'].value_counts()"
   ]
  },
  {
   "cell_type": "code",
   "execution_count": 11,
   "id": "52caeae3",
   "metadata": {},
   "outputs": [],
   "source": [
    "df_remove = df.loc[df['num_info'] != 18].copy()\n",
    "df = df.loc[df['num_info'] == 18].copy()"
   ]
  },
  {
   "cell_type": "code",
   "execution_count": 12,
   "id": "d20caacd",
   "metadata": {},
   "outputs": [],
   "source": [
    "global feature_idx\n",
    "def info_split(i):\n",
    "    ## split the i th part out and remove \\n for the feature\n",
    "    return re.split(split_condition, i)[feature_idx+1][:-2]\n",
    "def info_split_last(i):\n",
    "    ## no need to remove \\n for last category -- X-FileName\n",
    "    return re.split(split_condition, i)[feature_idx+1]\n",
    "for feature_idx in range(len(words2split)):\n",
    "    if feature_idx != len(words2split) - 1:\n",
    "        df[features_naming[feature_idx]] = df['pre_info'].map(info_split)\n",
    "    else:\n",
    "        df[features_naming[feature_idx]] = df['pre_info'].map(info_split_last) "
   ]
  },
  {
   "cell_type": "code",
   "execution_count": 14,
   "id": "c40dbe2d",
   "metadata": {},
   "outputs": [],
   "source": [
    "df_remove2 = df.loc[df['Content-Transfer-Encoding'] == 'text/plain; charset=us-asci']\n",
    "df = df.loc[df['Content-Transfer-Encoding'] != 'text/plain; charset=us-asci']"
   ]
  },
  {
   "cell_type": "code",
   "execution_count": 16,
   "id": "43e1615c",
   "metadata": {},
   "outputs": [],
   "source": [
    "def split_other_content(i):\n",
    "    \"\"\"split other forms of contents out\"\"\"\n",
    "    return i.split('-------------', 1)[0]\n",
    "df[\"has_other_content\"] = df[\"content\"].str.contains(\"-------------\")\n",
    "df[\"if_forwarded\"] = df[\"content\"].str.contains(\"------------- Forwarded\")\n",
    "df['content'] = df.content.map(split_other_content)"
   ]
  },
  {
   "cell_type": "code",
   "execution_count": 17,
   "id": "41be4ca1",
   "metadata": {},
   "outputs": [],
   "source": [
    "df = df.drop(['pre_info','test_true', 'num_info'], axis = 1).set_index(\"file\")"
   ]
  },
  {
   "cell_type": "code",
   "execution_count": 18,
   "id": "3aed539a",
   "metadata": {},
   "outputs": [],
   "source": [
    "ham_emails = pd.DataFrame(columns=['message', 'is_phishing'])\n",
    "ham_emails['message'] = df['content']\n",
    "ham_emails['is_phishing'] = 0"
   ]
  },
  {
   "cell_type": "code",
   "execution_count": 81,
   "id": "a21748f8",
   "metadata": {},
   "outputs": [],
   "source": [
    "ham_emails.to_csv('/Users/atacank/Documents/Repositories/Thesis-Phishing/ham_emails.csv', index=False)"
   ]
  }
 ],
 "metadata": {
  "kernelspec": {
   "display_name": "Python 3 (ipykernel)",
   "language": "python",
   "name": "python3"
  },
  "language_info": {
   "codemirror_mode": {
    "name": "ipython",
    "version": 3
   },
   "file_extension": ".py",
   "mimetype": "text/x-python",
   "name": "python",
   "nbconvert_exporter": "python",
   "pygments_lexer": "ipython3",
   "version": "3.10.6"
  }
 },
 "nbformat": 4,
 "nbformat_minor": 5
}
